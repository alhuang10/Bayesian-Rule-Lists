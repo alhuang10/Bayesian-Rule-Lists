{
 "cells": [
  {
   "cell_type": "code",
   "execution_count": 105,
   "metadata": {
    "collapsed": true
   },
   "outputs": [],
   "source": [
    "import pandas as pd\n",
    "from sklearn.model_selection import KFold\n",
    "from sklearn.metrics import roc_curve, auc, roc_auc_score\n",
    "\n",
    "# Models\n",
    "from sklearn.linear_model import LogisticRegression\n",
    "from sklearn.svm import SVC\n",
    "from sklearn.gaussian_process import GaussianProcessClassifier\n",
    "from sklearn.tree import DecisionTreeClassifier\n",
    "from sklearn.ensemble import RandomForestClassifier\n",
    "from sklearn.neural_network import MLPClassifier"
   ]
  },
  {
   "cell_type": "code",
   "execution_count": 106,
   "metadata": {
    "collapsed": true
   },
   "outputs": [],
   "source": [
    "data = pd.DataFrame.from_csv(\"data/uci_heartdisease_dataset/cleveland_data_14.csv\")\n",
    "data = data.reset_index()"
   ]
  },
  {
   "cell_type": "code",
   "execution_count": 107,
   "metadata": {
    "collapsed": true
   },
   "outputs": [],
   "source": [
    "def convert_thallium_scan(num):\n",
    "    if num == '3.0':\n",
    "        return 0.0\n",
    "    elif num == '6.0':\n",
    "        return 1.0\n",
    "    else:\n",
    "        return 2.0\n",
    "def convert_disease_status(num):\n",
    "    if num > 0:\n",
    "        return 1\n",
    "    else:\n",
    "        return 0"
   ]
  },
  {
   "cell_type": "code",
   "execution_count": 108,
   "metadata": {
    "collapsed": true
   },
   "outputs": [],
   "source": [
    "data = data[data.vessels_colored != '?']\n",
    "data = data[data.thallium_scan != '?']"
   ]
  },
  {
   "cell_type": "code",
   "execution_count": 110,
   "metadata": {
    "collapsed": false
   },
   "outputs": [],
   "source": [
    "data['vessels_colored'] = data['vessels_colored'].apply(pd.to_numeric)\n",
    "data['thallium_scan'] = data['thallium_scan'].apply(convert_thallium_scan)\n",
    "data[\"disease_status\"] = data[\"disease_status\"].apply(convert_disease_status)"
   ]
  },
  {
   "cell_type": "code",
   "execution_count": 111,
   "metadata": {
    "collapsed": true
   },
   "outputs": [],
   "source": [
    "outcomes = data['disease_status'].values.flatten()\n",
    "del data['disease_status']"
   ]
  },
  {
   "cell_type": "code",
   "execution_count": 112,
   "metadata": {
    "collapsed": false
   },
   "outputs": [
    {
     "name": "stdout",
     "output_type": "stream",
     "text": [
      "297\n",
      "297\n"
     ]
    }
   ],
   "source": [
    "print(len(data))\n",
    "print(len(outcomes))"
   ]
  },
  {
   "cell_type": "code",
   "execution_count": 117,
   "metadata": {
    "collapsed": true
   },
   "outputs": [],
   "source": [
    "features = data.as_matrix()"
   ]
  },
  {
   "cell_type": "code",
   "execution_count": 114,
   "metadata": {
    "collapsed": true
   },
   "outputs": [],
   "source": [
    "# Vanilla Model Results for KFold(4)\n",
    "# SVC - 0.53\n",
    "# Logistic Regression - 0.83\n",
    "# GP - 0.60\n",
    "# DecisionTreeClassifier - 0.70\n",
    "# RandomForestClassifier - 0.82\n",
    "# MLPClassifier - .5784"
   ]
  },
  {
   "cell_type": "code",
   "execution_count": 167,
   "metadata": {
    "collapsed": false
   },
   "outputs": [
    {
     "name": "stdout",
     "output_type": "stream",
     "text": [
      "Accuracy Average: 0.538783783784\n",
      "AUC Average: 0.620082763224\n"
     ]
    }
   ],
   "source": [
    "kf = KFold(4)\n",
    "\n",
    "scores = []\n",
    "aucs = []\n",
    "\n",
    "for train_index, test_index in kf.split(features):\n",
    "    \n",
    "    feature_train, feature_test = features[train_index], features[test_index]\n",
    "    outcome_train, outcome_test = outcomes[train_index], outcomes[test_index]\n",
    "    \n",
    "#     print(feature_train, len(feature_train))\n",
    "#     print(outcome_train, len(outcome_train))\n",
    "#     print(len(outcome_test))\n",
    "    \n",
    "    clf = SVC()\n",
    "#     clf = LogisticRegression()\n",
    "#     clf = GaussianProcessClassifier()\n",
    "#     clf = DecisionTreeClassifier()\n",
    "#     clf = RandomForestClassifier()\n",
    "#     clf = MLPClassifier()\n",
    "    \n",
    "    clf.fit(feature_train, outcome_train)\n",
    "    \n",
    "#     outcome_confidence_scores = [x[1] for x in clf.predict_proba(feature_test)]\n",
    "    outcome_confidence_scores = [x for x in clf.decision_function(feature_test)]\n",
    "    auc = roc_auc_score(outcome_test, outcome_confidence_scores)\n",
    "    \n",
    "    scores.append(clf.score(feature_test, outcome_test))\n",
    "    aucs.append(auc)\n",
    "    \n",
    "print(\"Accuracy Average:\", sum(scores) / len(scores))\n",
    "print(\"AUC Average:\", sum(aucs) / len(aucs))"
   ]
  },
  {
   "cell_type": "code",
   "execution_count": null,
   "metadata": {
    "collapsed": true
   },
   "outputs": [],
   "source": []
  },
  {
   "cell_type": "code",
   "execution_count": null,
   "metadata": {
    "collapsed": true
   },
   "outputs": [],
   "source": []
  }
 ],
 "metadata": {
  "anaconda-cloud": {},
  "kernelspec": {
   "display_name": "Python [conda env:python3.5]",
   "language": "python",
   "name": "conda-env-python3.5-py"
  },
  "language_info": {
   "codemirror_mode": {
    "name": "ipython",
    "version": 3
   },
   "file_extension": ".py",
   "mimetype": "text/x-python",
   "name": "python",
   "nbconvert_exporter": "python",
   "pygments_lexer": "ipython3",
   "version": "3.5.2"
  }
 },
 "nbformat": 4,
 "nbformat_minor": 1
}
